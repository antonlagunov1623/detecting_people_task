{
 "cells": [
  {
   "cell_type": "code",
   "execution_count": 1,
   "metadata": {},
   "outputs": [
    {
     "name": "stderr",
     "output_type": "stream",
     "text": [
      "Using TensorFlow backend.\n"
     ]
    }
   ],
   "source": [
    "from keras import layers\n",
    "from keras import models\n",
    "from keras import optimizers\n",
    "from keras import regularizers\n",
    "import matplotlib.pyplot as plt\n",
    "import os\n",
    "from keras.preprocessing.image import ImageDataGenerator\n",
    "from keras.applications import VGG16"
   ]
  },
  {
   "cell_type": "code",
   "execution_count": 2,
   "metadata": {},
   "outputs": [],
   "source": [
    "data_path = 'C:\\\\Users\\\\Anton.Lahunou\\\\detect_people_task\\\\inria_brainwash'"
   ]
  },
  {
   "cell_type": "code",
   "execution_count": 3,
   "metadata": {},
   "outputs": [],
   "source": [
    "datagen = ImageDataGenerator(rescale=1./255)"
   ]
  },
  {
   "cell_type": "code",
   "execution_count": 4,
   "metadata": {},
   "outputs": [
    {
     "name": "stdout",
     "output_type": "stream",
     "text": [
      "Found 3000 images belonging to 2 classes.\n"
     ]
    }
   ],
   "source": [
    "generator = datagen.flow_from_directory(data_path, target_size=(150, 150), batch_size=3000, shuffle=True, class_mode='binary')"
   ]
  },
  {
   "cell_type": "code",
   "execution_count": 5,
   "metadata": {},
   "outputs": [],
   "source": [
    "for data_batch, labels_batch in generator:\n",
    "    images = data_batch\n",
    "    labels = labels_batch\n",
    "    break"
   ]
  },
  {
   "cell_type": "code",
   "execution_count": 6,
   "metadata": {},
   "outputs": [],
   "source": [
    "k = 6\n",
    "samples = len(images) // k"
   ]
  },
  {
   "cell_type": "code",
   "execution_count": 7,
   "metadata": {},
   "outputs": [],
   "source": [
    "conv_base = VGG16(weights='imagenet', include_top=False, input_shape=(150, 150, 3))"
   ]
  },
  {
   "cell_type": "code",
   "execution_count": 8,
   "metadata": {},
   "outputs": [],
   "source": [
    "model = models.Sequential()\n",
    "model.add(conv_base)\n",
    "model.add(layers.Flatten())\n",
    "model.add(layers.Dense(256, activation='relu'))\n",
    "model.add(layers.Dense(1, activation='sigmoid'))"
   ]
  },
  {
   "cell_type": "code",
   "execution_count": 9,
   "metadata": {},
   "outputs": [],
   "source": [
    "model.compile(loss='binary_crossentropy', optimizer=optimizers.RMSprop(lr=2e-5), metrics=['acc'])"
   ]
  },
  {
   "cell_type": "code",
   "execution_count": 11,
   "metadata": {},
   "outputs": [
    {
     "name": "stdout",
     "output_type": "stream",
     "text": [
      "Train on 2000 samples, validate on 500 samples\n",
      "Epoch 1/32\n",
      "2000/2000 [==============================] - 1653s 826ms/step - loss: 0.2311 - acc: 0.9175 - val_loss: 0.2846 - val_acc: 0.8760\n",
      "Epoch 2/32\n",
      "2000/2000 [==============================] - 1643s 822ms/step - loss: 0.0989 - acc: 0.9660 - val_loss: 0.1080 - val_acc: 0.9600\n",
      "Epoch 3/32\n",
      "2000/2000 [==============================] - 1641s 820ms/step - loss: 0.0620 - acc: 0.9740 - val_loss: 0.1447 - val_acc: 0.9580\n",
      "Epoch 4/32\n",
      "2000/2000 [==============================] - 1698s 849ms/step - loss: 0.0822 - acc: 0.9750 - val_loss: 0.1984 - val_acc: 0.9480\n",
      "Epoch 5/32\n",
      "2000/2000 [==============================] - 1666s 833ms/step - loss: 0.0750 - acc: 0.9830 - val_loss: 0.3116 - val_acc: 0.9080\n",
      "Epoch 6/32\n",
      "2000/2000 [==============================] - 1630s 815ms/step - loss: 0.0631 - acc: 0.9795 - val_loss: 0.0764 - val_acc: 0.9700\n",
      "Epoch 7/32\n",
      "2000/2000 [==============================] - 1626s 813ms/step - loss: 0.1433 - acc: 0.9715 - val_loss: 0.2427 - val_acc: 0.9380\n",
      "Epoch 8/32\n",
      "2000/2000 [==============================] - 1633s 817ms/step - loss: 0.0456 - acc: 0.9865 - val_loss: 1.6506 - val_acc: 0.7480\n",
      "Epoch 9/32\n",
      "2000/2000 [==============================] - 1630s 815ms/step - loss: 0.1372 - acc: 0.9625 - val_loss: 0.1275 - val_acc: 0.9680\n",
      "Epoch 10/32\n",
      "2000/2000 [==============================] - 1629s 814ms/step - loss: 0.0898 - acc: 0.9770 - val_loss: 0.3449 - val_acc: 0.8780\n",
      "Epoch 11/32\n",
      "2000/2000 [==============================] - 1628s 814ms/step - loss: 0.0893 - acc: 0.9750 - val_loss: 0.1833 - val_acc: 0.9540\n",
      "Epoch 12/32\n",
      "2000/2000 [==============================] - 1628s 814ms/step - loss: 0.0841 - acc: 0.9750 - val_loss: 0.0879 - val_acc: 0.9720\n",
      "Epoch 13/32\n",
      "2000/2000 [==============================] - 1628s 814ms/step - loss: 0.0950 - acc: 0.9760 - val_loss: 0.2299 - val_acc: 0.9500\n",
      "Epoch 14/32\n",
      "2000/2000 [==============================] - 1631s 816ms/step - loss: 0.1583 - acc: 0.9710 - val_loss: 0.3050 - val_acc: 0.9540\n",
      "Epoch 15/32\n",
      "2000/2000 [==============================] - 1645s 823ms/step - loss: 0.1669 - acc: 0.9690 - val_loss: 0.2191 - val_acc: 0.9420\n",
      "Epoch 16/32\n",
      "2000/2000 [==============================] - 1645s 822ms/step - loss: 0.1205 - acc: 0.9725 - val_loss: 0.5898 - val_acc: 0.9040\n",
      "Epoch 17/32\n",
      "2000/2000 [==============================] - 1645s 822ms/step - loss: 0.2444 - acc: 0.9615 - val_loss: 1.2811 - val_acc: 0.8580\n",
      "Epoch 18/32\n",
      "2000/2000 [==============================] - 1643s 822ms/step - loss: 0.3253 - acc: 0.9455 - val_loss: 0.6459 - val_acc: 0.9100\n",
      "Epoch 19/32\n",
      "2000/2000 [==============================] - 1649s 824ms/step - loss: 0.7914 - acc: 0.9085 - val_loss: 1.4244 - val_acc: 0.8220\n",
      "Epoch 20/32\n",
      "2000/2000 [==============================] - 1645s 823ms/step - loss: 0.4264 - acc: 0.9110 - val_loss: 1.0867 - val_acc: 0.8320\n",
      "Epoch 21/32\n",
      "2000/2000 [==============================] - 1650s 825ms/step - loss: 0.5061 - acc: 0.9015 - val_loss: 0.3871 - val_acc: 0.9160\n",
      "Epoch 22/32\n",
      "2000/2000 [==============================] - 1683s 841ms/step - loss: 0.2321 - acc: 0.9405 - val_loss: 0.5076 - val_acc: 0.9000\n",
      "Epoch 23/32\n",
      "2000/2000 [==============================] - 1680s 840ms/step - loss: 0.7167 - acc: 0.9050 - val_loss: 0.2826 - val_acc: 0.9360\n",
      "Epoch 24/32\n",
      "2000/2000 [==============================] - 1648s 824ms/step - loss: 0.8230 - acc: 0.8940 - val_loss: 0.6910 - val_acc: 0.8960\n",
      "Epoch 25/32\n",
      "2000/2000 [==============================] - 1645s 822ms/step - loss: 0.1446 - acc: 0.9655 - val_loss: 1.4196 - val_acc: 0.8400\n",
      "Epoch 26/32\n",
      "2000/2000 [==============================] - 1646s 823ms/step - loss: 0.3777 - acc: 0.9385 - val_loss: 0.3273 - val_acc: 0.9320\n",
      "Epoch 27/32\n",
      "2000/2000 [==============================] - 1645s 822ms/step - loss: 0.2114 - acc: 0.9495 - val_loss: 0.2453 - val_acc: 0.9380\n",
      "Epoch 28/32\n",
      "2000/2000 [==============================] - 1645s 823ms/step - loss: 0.4572 - acc: 0.9305 - val_loss: 0.2242 - val_acc: 0.9560\n",
      "Epoch 29/32\n",
      "2000/2000 [==============================] - 1644s 822ms/step - loss: 0.3467 - acc: 0.9375 - val_loss: 0.3516 - val_acc: 0.9340\n",
      "Epoch 30/32\n",
      "2000/2000 [==============================] - 1643s 822ms/step - loss: 0.2635 - acc: 0.9445 - val_loss: 6.6801 - val_acc: 0.5780\n",
      "Epoch 31/32\n",
      "2000/2000 [==============================] - 1647s 824ms/step - loss: 1.5010 - acc: 0.8465 - val_loss: 0.4635 - val_acc: 0.9340\n",
      "Epoch 32/32\n",
      "2000/2000 [==============================] - 1670s 835ms/step - loss: 2.4064 - acc: 0.8215 - val_loss: 2.0368 - val_acc: 0.8620\n",
      "500/500 [==============================] - 119s 238ms/step\n"
     ]
    }
   ],
   "source": [
    "train_data = images[samples:]\n",
    "train_targets = labels[samples:]\n",
    "test_data = images[:samples]\n",
    "test_targets = labels[:samples]\n",
    "history = model.fit(train_data, train_targets, epochs=32, batch_size=64, validation_split=0.2)\n",
    "results = model.evaluate(test_data, test_targets)"
   ]
  },
  {
   "cell_type": "code",
   "execution_count": 12,
   "metadata": {},
   "outputs": [
    {
     "data": {
      "image/png": "[encoded data removed]",
      "text/plain": [
       "<Figure size 432x288 with 1 Axes>"
      ]
     },
     "metadata": {
      "needs_background": "light"
     },
     "output_type": "display_data"
    },
    {
     "data": {
      "image/png": "[encoded data removed]",
      "text/plain": [
       "<Figure size 432x288 with 1 Axes>"
      ]
     },
     "metadata": {
      "needs_background": "light"
     },
     "output_type": "display_data"
    }
   ],
   "source": [
    "plt.plot(history.history['acc'], 'bo', label='Training acc')\n",
    "plt.plot(history.history['val_acc'], 'b', label='Validation acc')\n",
    "plt.title('Training and validation accuracy')\n",
    "plt.legend()\n",
    "plt.figure()\n",
    "plt.plot(history.history['loss'], 'bo', label='Training loss')\n",
    "plt.plot(history.history['val_loss'], 'b', label='Validation loss')\n",
    "plt.title('Training and validation loss')\n",
    "plt.legend()\n",
    "plt.show()"
   ]
  },
  {
   "cell_type": "code",
   "execution_count": 13,
   "metadata": {},
   "outputs": [
    {
     "data": {
      "text/plain": [
       "[2.437997673034668, 0.8320000004768372]"
      ]
     },
     "execution_count": 13,
     "metadata": {},
     "output_type": "execute_result"
    }
   ],
   "source": [
    "results"
   ]
  },
  {
   "cell_type": "code",
   "execution_count": 14,
   "metadata": {},
   "outputs": [],
   "source": [
    "model.save('model4.h5')"
   ]
  }
 ],
 "metadata": {
  "kernelspec": {
   "display_name": "Python 3",
   "language": "python",
   "name": "python3"
  },
  "language_info": {
   "codemirror_mode": {
    "name": "ipython",
    "version": 3
   },
   "file_extension": ".py",
   "mimetype": "text/x-python",
   "name": "python",
   "nbconvert_exporter": "python",
   "pygments_lexer": "ipython3",
   "version": "3.6.8"
  }
 },
 "nbformat": 4,
 "nbformat_minor": 2
}
