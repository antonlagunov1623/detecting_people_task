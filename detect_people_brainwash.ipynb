{
 "cells": [
  {
   "cell_type": "code",
   "execution_count": 19,
   "metadata": {},
   "outputs": [],
   "source": [
    "from keras.preprocessing.image import ImageDataGenerator\n",
    "from IPython.display import display\n",
    "from PIL import Image\n",
    "import os\n",
    "import shutil\n",
    "from keras import layers\n",
    "from keras import models\n",
    "from keras import optimizers\n",
    "import matplotlib.pyplot as plt\n",
    "from keras.preprocessing import image\n",
    "from keras import regularizers\n",
    "from sklearn.metrics import f1_score, roc_auc_score\n",
    "import numpy as np\n",
    "from keras.callbacks import Callback\n",
    "from scipy.stats import sem, t\n",
    "from scipy import mean\n",
    "import seaborn as sns\n",
    "from scipy import ndimage"
   ]
  },
  {
   "cell_type": "code",
   "execution_count": 20,
   "metadata": {},
   "outputs": [],
   "source": [
    "original_dir = 'C:\\\\Users\\\\Anton.Lahunou\\\\detect_people_task\\\\brainwash'"
   ]
  },
  {
   "cell_type": "code",
   "execution_count": 21,
   "metadata": {},
   "outputs": [],
   "source": [
    "work_dir = 'C:\\\\Users\\\\Anton.Lahunou\\\\detect_people_task\\\\brainwash\\\\work'"
   ]
  },
  {
   "cell_type": "code",
   "execution_count": 22,
   "metadata": {},
   "outputs": [],
   "source": [
    "aug_dir = os.path.join(work_dir, 'aug')\n",
    "os.mkdir(aug_dir)"
   ]
  },
  {
   "cell_type": "code",
   "execution_count": 23,
   "metadata": {},
   "outputs": [],
   "source": [
    "work_pos_dir = os.path.join(work_dir, 'pos')\n",
    "os.mkdir(work_pos_dir)"
   ]
  },
  {
   "cell_type": "code",
   "execution_count": 24,
   "metadata": {},
   "outputs": [],
   "source": [
    "work_neg_dir = os.path.join(work_dir, 'neg')\n",
    "os.mkdir(work_neg_dir)"
   ]
  },
  {
   "cell_type": "code",
   "execution_count": 25,
   "metadata": {},
   "outputs": [],
   "source": [
    "txt_list = ['brainwash_test.txt', 'brainwash_train.txt', 'brainwash_val.txt']"
   ]
  },
  {
   "cell_type": "code",
   "execution_count": 26,
   "metadata": {},
   "outputs": [],
   "source": [
    "def split_string(str):\n",
    "    start = str.find('/') + 1\n",
    "    end = str.find('png') + 3\n",
    "    png_name = str[start:end]\n",
    "    folder = str[1:start-1]\n",
    "    if str[end+1] == ';':\n",
    "        is_here = False\n",
    "    else:\n",
    "        is_here = True\n",
    "    return folder, png_name, is_here"
   ]
  },
  {
   "cell_type": "code",
   "execution_count": 27,
   "metadata": {},
   "outputs": [],
   "source": [
    "str1 = '\"brainwash_11_13_2014_images/00026000_640x480.png\": (57.0, 258.0, 82.0, 286.0), (76.0, 239.0, 98.0, 266.0), (97.0, 204.0, 118.0, 227.0), (480.0, 236.0, 522.0, 281.0), (241.0, 244.0, 297.0, 294.0), (326.0, 207.0, 368.0, 245.0), (199.0, 185.0, 224.0, 210.0), (124.0, 172.0, 145.0, 195.0), (237.0, 158.0, 256.0, 177.0), (228.0, 164.0, 250.0, 188.0), (292.0, 170.0, 311.0, 189.0), (294.0, 159.0, 309.0, 178.0), (385.0, 126.0, 403.0, 143.0);'\n",
    "str2 = '\"brainwash_11_13_2014_images/00100000_640x480.png\";'"
   ]
  },
  {
   "cell_type": "code",
   "execution_count": 28,
   "metadata": {},
   "outputs": [
    {
     "data": {
      "text/plain": [
       "('brainwash_11_13_2014_images', '00026000_640x480.png', True)"
      ]
     },
     "execution_count": 28,
     "metadata": {},
     "output_type": "execute_result"
    }
   ],
   "source": [
    "split_string(str1)"
   ]
  },
  {
   "cell_type": "code",
   "execution_count": 29,
   "metadata": {},
   "outputs": [
    {
     "data": {
      "text/plain": [
       "('brainwash_11_13_2014_images', '00100000_640x480.png', False)"
      ]
     },
     "execution_count": 29,
     "metadata": {},
     "output_type": "execute_result"
    }
   ],
   "source": [
    "split_string(str2)"
   ]
  },
  {
   "cell_type": "code",
   "execution_count": 30,
   "metadata": {},
   "outputs": [],
   "source": [
    "for txt_name in txt_list:\n",
    "    f = open(os.path.join(original_dir, txt_name))\n",
    "    images_png = f.readlines()\n",
    "    for i in images_png:\n",
    "        folder, png_name, is_here = split_string(i)\n",
    "        dir_name = original_dir + '\\\\' + folder\n",
    "        full_image_name = os.path.join(dir_name, png_name)\n",
    "        if is_here:\n",
    "            shutil.copy(full_image_name, work_pos_dir)\n",
    "        else:\n",
    "            shutil.copy(full_image_name, work_neg_dir)"
   ]
  },
  {
   "cell_type": "code",
   "execution_count": 31,
   "metadata": {},
   "outputs": [
    {
     "name": "stdout",
     "output_type": "stream",
     "text": [
      "Total pos images: 8789\n",
      "Total neg images: 329\n"
     ]
    }
   ],
   "source": [
    "print('Total pos images:', len(os.listdir(work_pos_dir)))\n",
    "print('Total neg images:', len(os.listdir(work_neg_dir)))"
   ]
  },
  {
   "cell_type": "code",
   "execution_count": 32,
   "metadata": {},
   "outputs": [],
   "source": [
    "i = 1\n",
    "for img in os.listdir(work_pos_dir):\n",
    "    if i <= 7700:\n",
    "        os.remove(work_pos_dir + '\\\\' + img)\n",
    "    else:\n",
    "        break\n",
    "    i += 1"
   ]
  },
  {
   "cell_type": "code",
   "execution_count": 39,
   "metadata": {},
   "outputs": [
    {
     "name": "stdout",
     "output_type": "stream",
     "text": [
      "Total pos images: 1089\n",
      "Total neg images: 296\n"
     ]
    }
   ],
   "source": [
    "print('Total pos images:', len(os.listdir(work_pos_dir)))\n",
    "print('Total neg images:', len(os.listdir(work_neg_dir)))"
   ]
  },
  {
   "cell_type": "code",
   "execution_count": 40,
   "metadata": {},
   "outputs": [],
   "source": [
    "neg_datagen = ImageDataGenerator(width_shift_range=0.2, zoom_range=0.2, horizontal_flip=True, fill_mode='nearest')"
   ]
  },
  {
   "cell_type": "code",
   "execution_count": 41,
   "metadata": {},
   "outputs": [],
   "source": [
    "datagen = ImageDataGenerator(rescale=1./255)"
   ]
  },
  {
   "cell_type": "code",
   "execution_count": 42,
   "metadata": {},
   "outputs": [
    {
     "name": "stderr",
     "output_type": "stream",
     "text": [
      "c:\\users\\anton.lahunou\\nn_env\\lib\\site-packages\\ipykernel_launcher.py:2: DeprecationWarning: `imread` is deprecated!\n",
      "`imread` is deprecated in SciPy 1.0.0.\n",
      "Use ``matplotlib.pyplot.imread`` instead.\n",
      "  \n"
     ]
    }
   ],
   "source": [
    "for image in os.listdir(work_neg_dir):\n",
    "    img = np.expand_dims(ndimage.imread(work_neg_dir + '\\\\' + image), 0)\n",
    "    neg_datagen.fit(img)\n",
    "    for x, val in zip(neg_datagen.flow(img, save_to_dir=aug_dir, save_format='png', batch_size=3), range(3)):\n",
    "        pass"
   ]
  },
  {
   "cell_type": "code",
   "execution_count": 43,
   "metadata": {},
   "outputs": [
    {
     "name": "stdout",
     "output_type": "stream",
     "text": [
      "Total pos images: 1089\n",
      "Total neg images: 296\n"
     ]
    }
   ],
   "source": [
    "print('Total pos images:', len(os.listdir(work_pos_dir)))\n",
    "print('Total neg images:', len(os.listdir(work_neg_dir)))"
   ]
  },
  {
   "cell_type": "code",
   "execution_count": 44,
   "metadata": {},
   "outputs": [],
   "source": [
    "work_work_dir = os.path.join(work_dir, 'work_work')\n",
    "os.mkdir(work_work_dir)"
   ]
  },
  {
   "cell_type": "code",
   "execution_count": 45,
   "metadata": {},
   "outputs": [],
   "source": [
    "ww_pos_dir = os.path.join(work_work_dir, 'pos')\n",
    "os.mkdir(ww_pos_dir)"
   ]
  },
  {
   "cell_type": "code",
   "execution_count": 47,
   "metadata": {},
   "outputs": [],
   "source": [
    "ww_neg_dir = os.path.join(work_work_dir, 'neg')\n",
    "os.mkdir(ww_neg_dir)"
   ]
  },
  {
   "cell_type": "code",
   "execution_count": 52,
   "metadata": {},
   "outputs": [],
   "source": [
    "for image in os.listdir(work_pos_dir):\n",
    "    dir_name = work_pos_dir + '\\\\' + image\n",
    "    shutil.copy(dir_name, ww_pos_dir)"
   ]
  },
  {
   "cell_type": "code",
   "execution_count": 53,
   "metadata": {},
   "outputs": [],
   "source": [
    "for image in os.listdir(work_neg_dir):\n",
    "    dir_name = work_neg_dir + '\\\\' + image\n",
    "    shutil.copy(dir_name, ww_neg_dir)"
   ]
  },
  {
   "cell_type": "code",
   "execution_count": 54,
   "metadata": {},
   "outputs": [],
   "source": [
    "for image in os.listdir(aug_dir):\n",
    "    dir_name = aug_dir + '\\\\' + image\n",
    "    shutil.copy(dir_name, ww_neg_dir)"
   ]
  },
  {
   "cell_type": "code",
   "execution_count": 55,
   "metadata": {},
   "outputs": [
    {
     "name": "stdout",
     "output_type": "stream",
     "text": [
      "Total pos images: 1089\n",
      "Total neg images: 1417\n"
     ]
    }
   ],
   "source": [
    "print('Total pos images:', len(os.listdir(ww_pos_dir)))\n",
    "print('Total neg images:', len(os.listdir(ww_neg_dir)))"
   ]
  },
  {
   "cell_type": "code",
   "execution_count": 56,
   "metadata": {},
   "outputs": [
    {
     "name": "stdout",
     "output_type": "stream",
     "text": [
      "Found 2506 images belonging to 2 classes.\n"
     ]
    }
   ],
   "source": [
    "generator = datagen.flow_from_directory(work_work_dir, target_size=(150, 150), batch_size=len(os.listdir(ww_pos_dir))+len(os.listdir(ww_neg_dir)), shuffle=True, class_mode='binary')"
   ]
  },
  {
   "cell_type": "code",
   "execution_count": 57,
   "metadata": {},
   "outputs": [],
   "source": [
    "for data_batch, labels_batch in generator:\n",
    "    images = data_batch\n",
    "    labels = labels_batch\n",
    "    break"
   ]
  },
  {
   "cell_type": "markdown",
   "metadata": {},
   "source": [
    "###  Конструирование модели"
   ]
  },
  {
   "cell_type": "code",
   "execution_count": 58,
   "metadata": {},
   "outputs": [],
   "source": [
    "def build_cnn():\n",
    "    model = models.Sequential()\n",
    "    model.add(layers.Conv2D(32, (3, 3), activation='relu', input_shape=(150, 150, 3), kernel_regularizer=regularizers.l2(0.01)))\n",
    "    model.add(layers.MaxPooling2D((2, 2)))\n",
    "    model.add(layers.Conv2D(64, (3, 3), activation='relu', kernel_regularizer=regularizers.l2(0.01)))\n",
    "    model.add(layers.MaxPooling2D((2, 2)))\n",
    "    model.add(layers.Conv2D(128, (3, 3), activation='relu', kernel_regularizer=regularizers.l2(0.01)))\n",
    "    model.add(layers.MaxPooling2D((2, 2)))\n",
    "    model.add(layers.Conv2D(128, (3, 3), activation='relu', kernel_regularizer=regularizers.l2(0.01)))\n",
    "    model.add(layers.MaxPooling2D((2, 2)))\n",
    "    model.add(layers.Flatten())\n",
    "    model.add(layers.Dropout(0.5))\n",
    "    model.add(layers.Dense(512, activation='relu', kernel_regularizer=regularizers.l2(0.01)))\n",
    "    model.add(layers.Dense(1, activation='sigmoid'))\n",
    "    model.compile(loss='binary_crossentropy', optimizer=optimizers.RMSprop(lr=1e-4), metrics=['acc'])\n",
    "    return model"
   ]
  },
  {
   "cell_type": "code",
   "execution_count": 59,
   "metadata": {},
   "outputs": [],
   "source": [
    "k = 6\n",
    "samples = len(images) // k"
   ]
  },
  {
   "cell_type": "code",
   "execution_count": 61,
   "metadata": {},
   "outputs": [
    {
     "name": "stdout",
     "output_type": "stream",
     "text": [
      "Train on 1671 samples, validate on 418 samples\n",
      "Epoch 1/50\n",
      "1671/1671 [==============================] - 95s 57ms/step - loss: 10.9419 - acc: 0.7020 - val_loss: 9.4662 - val_acc: 0.8876\n",
      "Epoch 2/50\n",
      "1671/1671 [==============================] - 99s 59ms/step - loss: 8.7282 - acc: 0.8510 - val_loss: 8.1977 - val_acc: 0.5837\n",
      "Epoch 3/50\n",
      "1671/1671 [==============================] - 98s 58ms/step - loss: 7.2954 - acc: 0.8863 - val_loss: 6.5781 - val_acc: 0.9187\n",
      "Epoch 4/50\n",
      "1671/1671 [==============================] - 100s 60ms/step - loss: 6.1204 - acc: 0.9138 - val_loss: 5.5382 - val_acc: 0.9474\n",
      "Epoch 5/50\n",
      "1671/1671 [==============================] - 101s 60ms/step - loss: 5.1762 - acc: 0.9288 - val_loss: 4.6977 - val_acc: 0.9665\n",
      "Epoch 6/50\n",
      "1671/1671 [==============================] - 96s 58ms/step - loss: 4.3651 - acc: 0.9485 - val_loss: 4.0815 - val_acc: 0.8828\n",
      "Epoch 7/50\n",
      "1671/1671 [==============================] - 106s 64ms/step - loss: 3.7158 - acc: 0.9533 - val_loss: 3.3809 - val_acc: 0.9713\n",
      "Epoch 8/50\n",
      "1671/1671 [==============================] - 100s 60ms/step - loss: 3.1684 - acc: 0.9629 - val_loss: 2.9495 - val_acc: 0.9402\n",
      "Epoch 9/50\n",
      "1671/1671 [==============================] - 97s 58ms/step - loss: 2.7604 - acc: 0.9581 - val_loss: 2.7070 - val_acc: 0.9139\n",
      "Epoch 10/50\n",
      "1671/1671 [==============================] - 96s 57ms/step - loss: 2.4268 - acc: 0.9755 - val_loss: 2.2721 - val_acc: 0.9641\n",
      "Epoch 11/50\n",
      "1671/1671 [==============================] - 98s 59ms/step - loss: 2.1728 - acc: 0.9659 - val_loss: 2.0384 - val_acc: 0.9785\n",
      "Epoch 12/50\n",
      "1671/1671 [==============================] - 97s 58ms/step - loss: 1.9393 - acc: 0.9761 - val_loss: 1.8354 - val_acc: 0.9737\n",
      "Epoch 13/50\n",
      "1671/1671 [==============================] - 96s 58ms/step - loss: 1.7476 - acc: 0.9761 - val_loss: 1.6395 - val_acc: 0.9880\n",
      "Epoch 14/50\n",
      "1671/1671 [==============================] - 97s 58ms/step - loss: 1.5676 - acc: 0.9838 - val_loss: 1.4867 - val_acc: 0.9761\n",
      "Epoch 15/50\n",
      "1671/1671 [==============================] - 97s 58ms/step - loss: 1.4120 - acc: 0.9814 - val_loss: 1.3270 - val_acc: 0.9904\n",
      "Epoch 16/50\n",
      "1671/1671 [==============================] - 96s 57ms/step - loss: 1.2768 - acc: 0.9832 - val_loss: 1.3244 - val_acc: 0.9258\n",
      "Epoch 17/50\n",
      "1671/1671 [==============================] - 99s 59ms/step - loss: 1.1759 - acc: 0.9814 - val_loss: 1.1348 - val_acc: 0.9761\n",
      "Epoch 18/50\n",
      "1671/1671 [==============================] - 92s 55ms/step - loss: 1.0936 - acc: 0.9803 - val_loss: 1.0539 - val_acc: 0.9761\n",
      "Epoch 19/50\n",
      "1671/1671 [==============================] - 91s 55ms/step - loss: 0.9977 - acc: 0.9850 - val_loss: 0.9522 - val_acc: 0.9880\n",
      "Epoch 20/50\n",
      "1671/1671 [==============================] - 91s 55ms/step - loss: 0.9237 - acc: 0.9838 - val_loss: 0.8803 - val_acc: 0.9904\n",
      "Epoch 21/50\n",
      "1671/1671 [==============================] - 92s 55ms/step - loss: 0.8578 - acc: 0.9832 - val_loss: 0.8167 - val_acc: 0.9904\n",
      "Epoch 22/50\n",
      "1671/1671 [==============================] - 96s 58ms/step - loss: 0.8002 - acc: 0.9826 - val_loss: 0.7783 - val_acc: 0.9856\n",
      "Epoch 23/50\n",
      "1671/1671 [==============================] - 93s 56ms/step - loss: 0.7370 - acc: 0.9904 - val_loss: 0.7238 - val_acc: 0.9856\n",
      "Epoch 24/50\n",
      "1671/1671 [==============================] - 96s 57ms/step - loss: 0.6927 - acc: 0.9868 - val_loss: 0.6700 - val_acc: 0.9904\n",
      "Epoch 25/50\n",
      "1671/1671 [==============================] - 94s 56ms/step - loss: 0.6589 - acc: 0.9838 - val_loss: 0.6316 - val_acc: 0.9904\n",
      "Epoch 26/50\n",
      "1671/1671 [==============================] - 95s 57ms/step - loss: 0.6205 - acc: 0.9832 - val_loss: 0.5967 - val_acc: 0.9904\n",
      "Epoch 27/50\n",
      "1671/1671 [==============================] - 97s 58ms/step - loss: 0.5872 - acc: 0.9886 - val_loss: 0.5637 - val_acc: 0.9904\n",
      "Epoch 28/50\n",
      "1671/1671 [==============================] - 96s 57ms/step - loss: 0.5482 - acc: 0.9910 - val_loss: 0.5376 - val_acc: 0.9904\n",
      "Epoch 29/50\n",
      "1671/1671 [==============================] - 98s 59ms/step - loss: 0.5264 - acc: 0.9850 - val_loss: 0.5053 - val_acc: 0.9904\n",
      "Epoch 30/50\n",
      "1671/1671 [==============================] - 99s 59ms/step - loss: 0.5018 - acc: 0.9826 - val_loss: 0.4870 - val_acc: 0.9904\n",
      "Epoch 31/50\n",
      "1671/1671 [==============================] - 98s 58ms/step - loss: 0.4643 - acc: 0.9898 - val_loss: 0.4537 - val_acc: 0.9928\n",
      "Epoch 32/50\n",
      "1671/1671 [==============================] - 94s 57ms/step - loss: 0.4556 - acc: 0.9826 - val_loss: 0.4605 - val_acc: 0.9833\n",
      "Epoch 33/50\n",
      "1671/1671 [==============================] - 96s 57ms/step - loss: 0.4365 - acc: 0.9850 - val_loss: 0.4167 - val_acc: 0.9904\n",
      "Epoch 34/50\n",
      "1671/1671 [==============================] - 92s 55ms/step - loss: 0.4140 - acc: 0.9886 - val_loss: 0.4795 - val_acc: 0.9665\n",
      "Epoch 35/50\n",
      "1671/1671 [==============================] - 91s 54ms/step - loss: 0.4083 - acc: 0.9856 - val_loss: 0.3893 - val_acc: 0.9904\n",
      "Epoch 36/50\n",
      "1671/1671 [==============================] - 91s 55ms/step - loss: 0.3870 - acc: 0.9880 - val_loss: 0.3770 - val_acc: 0.9904\n",
      "Epoch 37/50\n",
      "1671/1671 [==============================] - 91s 54ms/step - loss: 0.3825 - acc: 0.9820 - val_loss: 0.3647 - val_acc: 0.9904\n",
      "Epoch 38/50\n",
      "1671/1671 [==============================] - 91s 54ms/step - loss: 0.3542 - acc: 0.9898 - val_loss: 0.3574 - val_acc: 0.9904\n",
      "Epoch 39/50\n",
      "1671/1671 [==============================] - 91s 54ms/step - loss: 0.3426 - acc: 0.9898 - val_loss: 0.7736 - val_acc: 0.7536\n",
      "Epoch 40/50\n",
      "1671/1671 [==============================] - 105s 63ms/step - loss: 0.3589 - acc: 0.9767 - val_loss: 0.3290 - val_acc: 0.9904\n",
      "Epoch 41/50\n",
      "1671/1671 [==============================] - 99s 59ms/step - loss: 0.3257 - acc: 0.9886 - val_loss: 0.3164 - val_acc: 0.9928\n",
      "Epoch 42/50\n",
      "1671/1671 [==============================] - 95s 57ms/step - loss: 0.3156 - acc: 0.9880 - val_loss: 0.3274 - val_acc: 0.9904\n",
      "Epoch 43/50\n",
      "1671/1671 [==============================] - 99s 59ms/step - loss: 0.3021 - acc: 0.9892 - val_loss: 0.3108 - val_acc: 0.9904\n",
      "Epoch 44/50\n",
      "1671/1671 [==============================] - 93s 56ms/step - loss: 0.2903 - acc: 0.9904 - val_loss: 0.3000 - val_acc: 0.9904\n",
      "Epoch 45/50\n",
      "1671/1671 [==============================] - 91s 55ms/step - loss: 0.2780 - acc: 0.9904 - val_loss: 0.2765 - val_acc: 0.9904\n",
      "Epoch 46/50\n",
      "1671/1671 [==============================] - 92s 55ms/step - loss: 0.2765 - acc: 0.9892 - val_loss: 0.2869 - val_acc: 0.9904\n",
      "Epoch 47/50\n",
      "1671/1671 [==============================] - 96s 58ms/step - loss: 0.2696 - acc: 0.9880 - val_loss: 0.2570 - val_acc: 0.9904\n",
      "Epoch 48/50\n",
      "1671/1671 [==============================] - 92s 55ms/step - loss: 0.2645 - acc: 0.9868 - val_loss: 0.2638 - val_acc: 0.9904\n",
      "Epoch 49/50\n",
      "1671/1671 [==============================] - 92s 55ms/step - loss: 0.2448 - acc: 0.9910 - val_loss: 0.2502 - val_acc: 0.9904\n",
      "Epoch 50/50\n",
      "1671/1671 [==============================] - 94s 56ms/step - loss: 0.2444 - acc: 0.9910 - val_loss: 0.2479 - val_acc: 0.9904\n",
      "417/417 [==============================] - 8s 18ms/step\n"
     ]
    }
   ],
   "source": [
    "train_data = images[samples:]\n",
    "train_targets = labels[samples:]\n",
    "test_data = images[:samples]\n",
    "test_targets = labels[:samples]\n",
    "model = build_cnn()\n",
    "history = model.fit(train_data, train_targets, epochs=50, batch_size=64, validation_split=0.2)\n",
    "results = model.evaluate(test_data, test_targets)"
   ]
  },
  {
   "cell_type": "code",
   "execution_count": 62,
   "metadata": {},
   "outputs": [
    {
     "data": {
      "text/plain": [
       "array([1., 0., 0., ..., 1., 0., 1.], dtype=float32)"
      ]
     },
     "execution_count": 62,
     "metadata": {},
     "output_type": "execute_result"
    }
   ],
   "source": [
    "train_targets"
   ]
  },
  {
   "cell_type": "code",
   "execution_count": 63,
   "metadata": {},
   "outputs": [
    {
     "data": {
      "image/png": "[encoded data removed]",
      "text/plain": [
       "<Figure size 432x288 with 1 Axes>"
      ]
     },
     "metadata": {
      "needs_background": "light"
     },
     "output_type": "display_data"
    },
    {
     "data": {
      "image/png": "[encoded data removed]",
      "text/plain": [
       "<Figure size 432x288 with 1 Axes>"
      ]
     },
     "metadata": {
      "needs_background": "light"
     },
     "output_type": "display_data"
    }
   ],
   "source": [
    "plt.plot(history.history['acc'], 'bo', label='Training acc')\n",
    "plt.plot(history.history['val_acc'], 'b', label='Validation acc')\n",
    "plt.title('Training and validation accuracy')\n",
    "plt.legend()\n",
    "plt.figure()\n",
    "plt.plot(history.history['loss'], 'bo', label='Training loss')\n",
    "plt.plot(history.history['val_loss'], 'b', label='Validation loss')\n",
    "plt.title('Training and validation loss')\n",
    "plt.legend()\n",
    "plt.show()"
   ]
  },
  {
   "cell_type": "code",
   "execution_count": 64,
   "metadata": {},
   "outputs": [
    {
     "data": {
      "text/plain": [
       "[0.2915691701914195, 0.9832134292565947]"
      ]
     },
     "execution_count": 64,
     "metadata": {},
     "output_type": "execute_result"
    }
   ],
   "source": [
    "results"
   ]
  }
 ],
 "metadata": {
  "kernelspec": {
   "display_name": "Python 3",
   "language": "python",
   "name": "python3"
  },
  "language_info": {
   "codemirror_mode": {
    "name": "ipython",
    "version": 3
   },
   "file_extension": ".py",
   "mimetype": "text/x-python",
   "name": "python",
   "nbconvert_exporter": "python",
   "pygments_lexer": "ipython3",
   "version": "3.6.8"
  }
 },
 "nbformat": 4,
 "nbformat_minor": 2
}
