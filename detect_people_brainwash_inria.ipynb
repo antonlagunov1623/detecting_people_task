{
 "cells": [
  {
   "cell_type": "code",
   "execution_count": 1,
   "metadata": {},
   "outputs": [
    {
     "name": "stderr",
     "output_type": "stream",
     "text": [
      "Using TensorFlow backend.\n"
     ]
    }
   ],
   "source": [
    "from keras.preprocessing.image import ImageDataGenerator\n",
    "from IPython.display import display\n",
    "from PIL import Image\n",
    "import os\n",
    "import shutil\n",
    "from keras import layers\n",
    "from keras import models\n",
    "from keras import optimizers\n",
    "import matplotlib.pyplot as plt\n",
    "from keras.preprocessing import image\n",
    "from keras import regularizers\n",
    "from sklearn.metrics import f1_score, roc_auc_score\n",
    "import numpy as np\n",
    "from keras.callbacks import Callback\n",
    "from scipy.stats import sem, t\n",
    "from scipy import mean\n",
    "import seaborn as sns\n",
    "from PIL import Image"
   ]
  },
  {
   "cell_type": "code",
   "execution_count": 9,
   "metadata": {},
   "outputs": [],
   "source": [
    "inria_dir = 'C:\\\\Users\\\\Anton.Lahunou\\\\detect_people_task\\\\real_data'\n",
    "brainwash_dir = 'C:\\\\Users\\\\Anton.Lahunou\\\\detect_people_task\\\\brainwash\\\\work'"
   ]
  },
  {
   "cell_type": "code",
   "execution_count": 10,
   "metadata": {},
   "outputs": [],
   "source": [
    "inria_brain_dir = 'C:\\\\Users\\\\Anton.Lahunou\\\\detect_people_task\\\\inria_brainwash'"
   ]
  },
  {
   "cell_type": "code",
   "execution_count": 11,
   "metadata": {},
   "outputs": [],
   "source": [
    "ib_pos_dir = os.path.join(inria_brain_dir, 'pos')\n",
    "os.mkdir(ib_pos_dir)"
   ]
  },
  {
   "cell_type": "code",
   "execution_count": 12,
   "metadata": {},
   "outputs": [],
   "source": [
    "ib_neg_dir = os.path.join(inria_brain_dir, 'neg')\n",
    "os.mkdir(ib_neg_dir)"
   ]
  },
  {
   "cell_type": "code",
   "execution_count": 13,
   "metadata": {},
   "outputs": [],
   "source": [
    "inria_pos_dir = 'C:\\\\Users\\\\Anton.Lahunou\\\\detect_people_task\\\\real_data\\\\pos'\n",
    "inria_neg_dir = 'C:\\\\Users\\\\Anton.Lahunou\\\\detect_people_task\\\\real_data\\\\neg'"
   ]
  },
  {
   "cell_type": "code",
   "execution_count": 14,
   "metadata": {},
   "outputs": [],
   "source": [
    "brainwash_pos_dir = 'C:\\\\Users\\\\Anton.Lahunou\\\\detect_people_task\\\\brainwash\\\\work\\\\pos'\n",
    "brainwash_neg_dir = 'C:\\\\Users\\\\Anton.Lahunou\\\\detect_people_task\\\\brainwash\\\\work\\\\neg'"
   ]
  },
  {
   "cell_type": "code",
   "execution_count": 15,
   "metadata": {},
   "outputs": [],
   "source": [
    "i = 0\n",
    "for image in os.listdir(brainwash_pos_dir):\n",
    "    full_path = brainwash_pos_dir + '\\\\' + image\n",
    "    img = Image.open(full_path)\n",
    "    w, h = img.size\n",
    "    croped_img = img.crop((0, 90, w, h-90))\n",
    "    croped_img.save(ib_pos_dir + '\\\\' + str(i) + 'image.png', 'png', quality=80, optimize=True, progressive=True)\n",
    "    i += 1"
   ]
  },
  {
   "cell_type": "code",
   "execution_count": 16,
   "metadata": {},
   "outputs": [],
   "source": [
    "i = 0\n",
    "for image in os.listdir(brainwash_neg_dir):\n",
    "    full_path = brainwash_neg_dir + '\\\\' + image\n",
    "    img = Image.open(full_path)\n",
    "    w, h = img.size\n",
    "    croped_img = img.crop((0, 90, w, h-90))\n",
    "    croped_img.save(ib_neg_dir + '\\\\' + str(i) + 'image.png', 'png', quality=80, optimize=True, progressive=True)\n",
    "    i += 1"
   ]
  },
  {
   "cell_type": "code",
   "execution_count": 17,
   "metadata": {},
   "outputs": [],
   "source": [
    "inria_pos_files = os.listdir(inria_pos_dir)\n",
    "i = 0\n",
    "for file_name in inria_pos_files:\n",
    "    full_file_name = os.path.join(inria_pos_dir, file_name)\n",
    "    if i<411:\n",
    "        shutil.copy(full_file_name, ib_pos_dir)\n",
    "    if i>=411:\n",
    "        break\n",
    "    i += 1"
   ]
  },
  {
   "cell_type": "code",
   "execution_count": 18,
   "metadata": {},
   "outputs": [],
   "source": [
    "new_inria_path = 'C:\\\\Users\\\\Anton.Lahunou\\\\detect_people_task\\\\INRIAPerson\\\\Train\\\\neg'"
   ]
  },
  {
   "cell_type": "code",
   "execution_count": 19,
   "metadata": {},
   "outputs": [],
   "source": [
    "inria_neg_files = os.listdir(new_inria_path)\n",
    "i = 0\n",
    "for file_name in inria_neg_files:\n",
    "    full_file_name = os.path.join(new_inria_path, file_name)\n",
    "    if i<1204:\n",
    "        shutil.copy(full_file_name, ib_neg_dir)\n",
    "    if i>=1204:\n",
    "        break\n",
    "    i += 1"
   ]
  },
  {
   "cell_type": "code",
   "execution_count": 20,
   "metadata": {},
   "outputs": [
    {
     "name": "stdout",
     "output_type": "stream",
     "text": [
      "Total pos images: 1500\n",
      "Total neg images: 1500\n"
     ]
    }
   ],
   "source": [
    "print('Total pos images:', len(os.listdir(ib_pos_dir)))\n",
    "print('Total neg images:', len(os.listdir(ib_neg_dir)))"
   ]
  },
  {
   "cell_type": "code",
   "execution_count": 21,
   "metadata": {},
   "outputs": [],
   "source": [
    "datagen = ImageDataGenerator(rescale=1./255)"
   ]
  },
  {
   "cell_type": "code",
   "execution_count": 22,
   "metadata": {},
   "outputs": [
    {
     "name": "stdout",
     "output_type": "stream",
     "text": [
      "Found 3000 images belonging to 2 classes.\n"
     ]
    }
   ],
   "source": [
    "generator = datagen.flow_from_directory(inria_brain_dir, target_size=(150, 150), batch_size=3000, shuffle=True, class_mode='binary')"
   ]
  },
  {
   "cell_type": "code",
   "execution_count": 23,
   "metadata": {},
   "outputs": [],
   "source": [
    "for data_batch, labels_batch in generator:\n",
    "    images = data_batch\n",
    "    labels = labels_batch\n",
    "    break"
   ]
  },
  {
   "cell_type": "code",
   "execution_count": 24,
   "metadata": {},
   "outputs": [],
   "source": [
    "k = 6\n",
    "samples = len(images) // k"
   ]
  },
  {
   "cell_type": "code",
   "execution_count": 25,
   "metadata": {},
   "outputs": [],
   "source": [
    "def build_cnn():\n",
    "    model = models.Sequential()\n",
    "    model.add(layers.Conv2D(32, (3, 3), activation='relu', input_shape=(150, 150, 3), kernel_regularizer=regularizers.l2(0.01)))\n",
    "    model.add(layers.MaxPooling2D((2, 2)))\n",
    "    model.add(layers.Conv2D(64, (3, 3), activation='relu', kernel_regularizer=regularizers.l2(0.01)))\n",
    "    model.add(layers.MaxPooling2D((2, 2)))\n",
    "    model.add(layers.Conv2D(128, (3, 3), activation='relu', kernel_regularizer=regularizers.l2(0.01)))\n",
    "    model.add(layers.MaxPooling2D((2, 2)))\n",
    "    model.add(layers.Conv2D(128, (3, 3), activation='relu', kernel_regularizer=regularizers.l2(0.01)))\n",
    "    model.add(layers.MaxPooling2D((2, 2)))\n",
    "    model.add(layers.Flatten())\n",
    "    model.add(layers.Dropout(0.5))\n",
    "    model.add(layers.Dense(512, activation='relu', kernel_regularizer=regularizers.l2(0.01)))\n",
    "    model.add(layers.Dense(1, activation='sigmoid'))\n",
    "    model.compile(loss='binary_crossentropy', optimizer=optimizers.RMSprop(lr=1e-4), metrics=['acc'])\n",
    "    return model"
   ]
  },
  {
   "cell_type": "code",
   "execution_count": null,
   "metadata": {},
   "outputs": [
    {
     "name": "stdout",
     "output_type": "stream",
     "text": [
      "Train on 2000 samples, validate on 500 samples\n",
      "Epoch 1/50\n",
      " 832/2000 [===========>..................] - ETA: 2:11 - loss: 11.7364 - acc: 0.5901"
     ]
    }
   ],
   "source": [
    "train_data = images[samples:]\n",
    "train_targets = labels[samples:]\n",
    "test_data = images[:samples]\n",
    "test_targets = labels[:samples]\n",
    "model = build_cnn()\n",
    "history = model.fit(train_data, train_targets, epochs=50, batch_size=64, validation_split=0.2)\n",
    "results = model.evaluate(test_data, test_targets)"
   ]
  },
  {
   "cell_type": "code",
   "execution_count": null,
   "metadata": {},
   "outputs": [],
   "source": [
    "plt.plot(history.history['acc'], 'bo', label='Training acc')\n",
    "plt.plot(history.history['val_acc'], 'b', label='Validation acc')\n",
    "plt.title('Training and validation accuracy')\n",
    "plt.legend()\n",
    "plt.figure()\n",
    "plt.plot(history.history['loss'], 'bo', label='Training loss')\n",
    "plt.plot(history.history['val_loss'], 'b', label='Validation loss')\n",
    "plt.title('Training and validation loss')\n",
    "plt.legend()\n",
    "plt.show()"
   ]
  },
  {
   "cell_type": "code",
   "execution_count": null,
   "metadata": {},
   "outputs": [],
   "source": [
    "results"
   ]
  },
  {
   "cell_type": "code",
   "execution_count": null,
   "metadata": {},
   "outputs": [],
   "source": []
  },
  {
   "cell_type": "code",
   "execution_count": null,
   "metadata": {},
   "outputs": [],
   "source": []
  },
  {
   "cell_type": "code",
   "execution_count": null,
   "metadata": {},
   "outputs": [],
   "source": []
  }
 ],
 "metadata": {
  "kernelspec": {
   "display_name": "Python 3",
   "language": "python",
   "name": "python3"
  },
  "language_info": {
   "codemirror_mode": {
    "name": "ipython",
    "version": 3
   },
   "file_extension": ".py",
   "mimetype": "text/x-python",
   "name": "python",
   "nbconvert_exporter": "python",
   "pygments_lexer": "ipython3",
   "version": "3.6.8"
  }
 },
 "nbformat": 4,
 "nbformat_minor": 2
}
